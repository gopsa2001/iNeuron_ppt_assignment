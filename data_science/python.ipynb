{
 "cells": [
  {
   "cell_type": "markdown",
   "id": "a4101aed",
   "metadata": {},
   "source": [
    "1. Write a Python program to reverse a string without using any built-in string reversal functions."
   ]
  },
  {
   "cell_type": "code",
   "execution_count": 1,
   "id": "f6b1d8a1",
   "metadata": {},
   "outputs": [
    {
     "name": "stdout",
     "output_type": "stream",
     "text": [
      "Enter a string: HII I AM INEURON STUDENT\n",
      "Reversed string: TNEDUTS NORUENI MA I IIH\n"
     ]
    }
   ],
   "source": [
    "def reverse_string(string):\n",
    "    reversed_string = \"\"\n",
    "    for i in range(len(string) - 1, -1, -1):\n",
    "        reversed_string += string[i]\n",
    "    return reversed_string\n",
    "\n",
    "# Example usage\n",
    "input_string = input(\"Enter a string: \")\n",
    "reversed_string = reverse_string(input_string)\n",
    "print(\"Reversed string:\", reversed_string)"
   ]
  },
  {
   "cell_type": "markdown",
   "id": "905bdfa0",
   "metadata": {},
   "source": [
    "2. Implement a function to check if a given string is a palindrome."
   ]
  },
  {
   "cell_type": "code",
   "execution_count": 6,
   "id": "12b262d9",
   "metadata": {},
   "outputs": [
    {
     "name": "stdout",
     "output_type": "stream",
     "text": [
      "Enter a string: ineuron\n",
      "The string is not a palindrome.\n"
     ]
    }
   ],
   "source": [
    "def is_palindrome(string):\n",
    "    # Remove non-alphanumeric characters and convert to lowercase\n",
    "    reversed_string = string[::-1]  # Reverse the cleaned string\n",
    "    return string == reversed_string\n",
    "\n",
    "# Example usage\n",
    "input_string = input(\"Enter a string: \")\n",
    "if is_palindrome(input_string):\n",
    "    print(\"The string is a palindrome.\")\n",
    "else:\n",
    "    print(\"The string is not a palindrome.\")"
   ]
  },
  {
   "cell_type": "markdown",
   "id": "88be1c4e",
   "metadata": {},
   "source": [
    "3. Write a program to find the largest element in a given list."
   ]
  },
  {
   "cell_type": "code",
   "execution_count": 8,
   "id": "a429929e",
   "metadata": {},
   "outputs": [
    {
     "name": "stdout",
     "output_type": "stream",
     "text": [
      "Enter a list of numbers separated by spaces: 2 345 4645 6754 653 6545\n",
      "The largest element in the list is: 6754\n"
     ]
    }
   ],
   "source": [
    "def find_largest_element(lst):\n",
    "    if not lst:\n",
    "        return None\n",
    "    largest = lst[0]\n",
    "    for element in lst:\n",
    "        if element > largest:\n",
    "            largest = element\n",
    "    return largest\n",
    "\n",
    "# Example usage\n",
    "input_list = input(\"Enter a list of numbers separated by spaces: \").split()\n",
    "input_list = [int(num) for num in input_list]  # Convert input to integers\n",
    "largest_element = find_largest_element(input_list)\n",
    "print(\"The largest element in the list is:\", largest_element)"
   ]
  },
  {
   "cell_type": "markdown",
   "id": "c042127b",
   "metadata": {},
   "source": [
    "4. Implement a function to count the occurrence of each element in a list."
   ]
  },
  {
   "cell_type": "code",
   "execution_count": 9,
   "id": "39b2a33f",
   "metadata": {},
   "outputs": [
    {
     "name": "stdout",
     "output_type": "stream",
     "text": [
      "Enter a list of elements separated by spaces: hsdfaklh jsadhf asjdh sjdkfh hsdfaklh 329749 32\n",
      "Element occurrences:\n",
      "hsdfaklh: 2\n",
      "jsadhf: 1\n",
      "asjdh: 1\n",
      "sjdkfh: 1\n",
      "329749: 1\n",
      "32: 1\n"
     ]
    }
   ],
   "source": [
    "def count_occurrences(lst):\n",
    "    occurrences = {}\n",
    "    for element in lst:\n",
    "        if element in occurrences:\n",
    "            occurrences[element] += 1\n",
    "        else:\n",
    "            occurrences[element] = 1\n",
    "    return occurrences\n",
    "\n",
    "# Example usage\n",
    "input_list = input(\"Enter a list of elements separated by spaces: \").split()\n",
    "occurrences = count_occurrences(input_list)\n",
    "print(\"Element occurrences:\")\n",
    "for element, count in occurrences.items():\n",
    "    print(f\"{element}: {count}\")\n"
   ]
  },
  {
   "cell_type": "markdown",
   "id": "48fac4e3",
   "metadata": {},
   "source": [
    "5. Write a Python program to find the second largest number in a list."
   ]
  },
  {
   "cell_type": "code",
   "execution_count": 11,
   "id": "6acf3d6e",
   "metadata": {},
   "outputs": [
    {
     "name": "stdout",
     "output_type": "stream",
     "text": [
      "Enter a list of numbers separated by spaces: 2 342 21 45 43 567 78\n",
      "The second largest number in the list is: 342\n"
     ]
    }
   ],
   "source": [
    "def find_second_largest(lst):\n",
    "    if len(lst) < 2:\n",
    "        return None\n",
    "    largest = max(lst[0], lst[1])\n",
    "    second_largest = min(lst[0], lst[1])\n",
    "    for num in lst[2:]:\n",
    "        if num > largest:\n",
    "            second_largest = largest\n",
    "            largest = num\n",
    "        elif num > second_largest:\n",
    "            second_largest = num\n",
    "    return second_largest\n",
    "\n",
    "# Example usage\n",
    "input_list = input(\"Enter a list of numbers separated by spaces: \").split()\n",
    "input_list = [int(num) for num in input_list]  # Convert input to integers\n",
    "second_largest_number = find_second_largest(input_list)\n",
    "if second_largest_number is not None:\n",
    "    print(\"The second largest number in the list is:\", second_largest_number)\n",
    "else:\n",
    "    print(\"The list does not have a second largest number.\")\n",
    "\n",
    "    "
   ]
  },
  {
   "cell_type": "markdown",
   "id": "1484486f",
   "metadata": {},
   "source": [
    "6. Implement a function to remove duplicate elements from a list."
   ]
  },
  {
   "cell_type": "code",
   "execution_count": 12,
   "id": "ebd4b0fb",
   "metadata": {},
   "outputs": [
    {
     "name": "stdout",
     "output_type": "stream",
     "text": [
      "Enter a list of elements separated by spaces: 32487 hdfsjk 32487 djhsk fsdjk\n",
      "List with duplicates removed: ['djhsk', '32487', 'hdfsjk', 'fsdjk']\n"
     ]
    }
   ],
   "source": [
    "def remove_duplicates(lst):\n",
    "    return list(set(lst))\n",
    "\n",
    "# Example usage\n",
    "input_list = input(\"Enter a list of elements separated by spaces: \").split()\n",
    "result_list = remove_duplicates(input_list)\n",
    "print(\"List with duplicates removed:\", result_list)\n"
   ]
  },
  {
   "cell_type": "markdown",
   "id": "aaca1551",
   "metadata": {},
   "source": [
    "7. Write a program to calculate the factorial of a given number."
   ]
  },
  {
   "cell_type": "code",
   "execution_count": 15,
   "id": "c944b1b9",
   "metadata": {},
   "outputs": [
    {
     "name": "stdout",
     "output_type": "stream",
     "text": [
      "Enter a number: 10\n",
      "Factorial of 10 is: 3628800\n"
     ]
    }
   ],
   "source": [
    "def factorial(n):\n",
    "    if n == 0:\n",
    "        return 1\n",
    "    result = 1\n",
    "    for i in range(1, n + 1):\n",
    "        result *= i\n",
    "    return result\n",
    "\n",
    "# Example usage\n",
    "input_number = int(input(\"Enter a number: \"))\n",
    "factorial_result = factorial(input_number)\n",
    "print(\"Factorial of\", input_number, \"is:\", factorial_result)"
   ]
  },
  {
   "cell_type": "markdown",
   "id": "1f3883f1",
   "metadata": {},
   "source": [
    "8. Implement a function to check if a given number is prime."
   ]
  },
  {
   "cell_type": "code",
   "execution_count": 16,
   "id": "aa3944de",
   "metadata": {},
   "outputs": [
    {
     "name": "stdout",
     "output_type": "stream",
     "text": [
      "Enter a number: 45\n",
      "45 is not a prime number.\n"
     ]
    }
   ],
   "source": [
    "def is_prime(n):\n",
    "    if n <= 1:\n",
    "        return False\n",
    "    for i in range(2, int(n ** 0.5) + 1):\n",
    "        if n % i == 0:\n",
    "            return False\n",
    "    return True\n",
    "\n",
    "# Example usage\n",
    "input_number = int(input(\"Enter a number: \"))\n",
    "if is_prime(input_number):\n",
    "    print(input_number, \"is a prime number.\")\n",
    "else:\n",
    "    print(input_number, \"is not a prime number.\")"
   ]
  },
  {
   "cell_type": "markdown",
   "id": "d5042613",
   "metadata": {},
   "source": [
    "9. Write a Python program to sort a list of integers in ascending order."
   ]
  },
  {
   "cell_type": "code",
   "execution_count": 17,
   "id": "7c873a28",
   "metadata": {},
   "outputs": [
    {
     "name": "stdout",
     "output_type": "stream",
     "text": [
      "Enter a list of integers separated by spaces: 34 23 45 678 45\n",
      "Sorted list: [23, 34, 45, 45, 678]\n"
     ]
    }
   ],
   "source": [
    "def sort_list(lst):\n",
    "    return sorted(lst)\n",
    "\n",
    "# Example usage\n",
    "input_list = input(\"Enter a list of integers separated by spaces: \").split()\n",
    "input_list = [int(num) for num in input_list]  # Convert input to integers\n",
    "sorted_list = sort_list(input_list)\n",
    "print(\"Sorted list:\", sorted_list)"
   ]
  },
  {
   "cell_type": "markdown",
   "id": "e62e4481",
   "metadata": {},
   "source": [
    "10. Implement a function to find the sum of all numbers in a list."
   ]
  },
  {
   "cell_type": "code",
   "execution_count": 18,
   "id": "d9a2f4a1",
   "metadata": {},
   "outputs": [
    {
     "name": "stdout",
     "output_type": "stream",
     "text": [
      "Enter a list of numbers separated by spaces: 23 45 43 21 \n",
      "Sum of numbers in the list: 132\n"
     ]
    }
   ],
   "source": [
    "def find_sum(lst):\n",
    "    total = 0\n",
    "    for num in lst:\n",
    "        total += num\n",
    "    return total\n",
    "\n",
    "# Example usage\n",
    "input_list = input(\"Enter a list of numbers separated by spaces: \").split()\n",
    "input_list = [int(num) for num in input_list]  # Convert input to integers\n",
    "sum_of_numbers = find_sum(input_list)\n",
    "print(\"Sum of numbers in the list:\", sum_of_numbers)"
   ]
  },
  {
   "cell_type": "markdown",
   "id": "49440e72",
   "metadata": {},
   "source": [
    "11. Write a program to find the common elements between two lists."
   ]
  },
  {
   "cell_type": "code",
   "execution_count": 19,
   "id": "8613c1be",
   "metadata": {},
   "outputs": [
    {
     "name": "stdout",
     "output_type": "stream",
     "text": [
      "Enter the elements of the first list separated by spaces: 45 6545 45 4565 66 778 889 \n",
      "Enter the elements of the second list separated by spaces: 45 67 78 90 12 78\n",
      "Common elements: ['45']\n"
     ]
    }
   ],
   "source": [
    "def find_common_elements(list1, list2):\n",
    "    set1 = set(list1)\n",
    "    set2 = set(list2)\n",
    "    common_elements = set1.intersection(set2)\n",
    "    return list(common_elements)\n",
    "\n",
    "# Example usage\n",
    "input_list1 = input(\"Enter the elements of the first list separated by spaces: \").split()\n",
    "input_list2 = input(\"Enter the elements of the second list separated by spaces: \").split()\n",
    "\n",
    "common_elements = find_common_elements(input_list1, input_list2)\n",
    "print(\"Common elements:\", common_elements)\n"
   ]
  },
  {
   "cell_type": "markdown",
   "id": "5fc913da",
   "metadata": {},
   "source": [
    "12. Implement a function to check if a given string is an anagram of another string."
   ]
  },
  {
   "cell_type": "code",
   "execution_count": 20,
   "id": "ab6ecb8b",
   "metadata": {},
   "outputs": [
    {
     "name": "stdout",
     "output_type": "stream",
     "text": [
      "Enter the first string: trh\n",
      "Enter the second string: is\n",
      "The strings are not anagrams.\n"
     ]
    }
   ],
   "source": [
    "def is_anagram(str1, str2):\n",
    "    # Remove whitespace and convert to lowercase\n",
    "    str1 = str1.replace(\" \", \"\").lower()\n",
    "    str2 = str2.replace(\" \", \"\").lower()\n",
    "    \n",
    "    # Check if the sorted strings are equal\n",
    "    return sorted(str1) == sorted(str2)\n",
    "\n",
    "# Example usage\n",
    "input_str1 = input(\"Enter the first string: \")\n",
    "input_str2 = input(\"Enter the second string: \")\n",
    "\n",
    "if is_anagram(input_str1, input_str2):\n",
    "    print(\"The strings are anagrams.\")\n",
    "else:\n",
    "    print(\"The strings are not anagrams.\")\n"
   ]
  },
  {
   "cell_type": "markdown",
   "id": "5996180a",
   "metadata": {},
   "source": [
    "13. Write a Python program to generate all permutations of a given string."
   ]
  },
  {
   "cell_type": "code",
   "execution_count": 22,
   "id": "20a151ca",
   "metadata": {},
   "outputs": [
    {
     "name": "stdout",
     "output_type": "stream",
     "text": [
      "Enter a string: gopal\n",
      "Permutations:\n",
      "gopal\n",
      "gopla\n",
      "goapl\n",
      "goalp\n",
      "golpa\n",
      "golap\n",
      "gpoal\n",
      "gpola\n",
      "gpaol\n",
      "gpalo\n",
      "gploa\n",
      "gplao\n",
      "gaopl\n",
      "gaolp\n",
      "gapol\n",
      "gaplo\n",
      "galop\n",
      "galpo\n",
      "glopa\n",
      "gloap\n",
      "glpoa\n",
      "glpao\n",
      "glaop\n",
      "glapo\n",
      "ogpal\n",
      "ogpla\n",
      "ogapl\n",
      "ogalp\n",
      "oglpa\n",
      "oglap\n",
      "opgal\n",
      "opgla\n",
      "opagl\n",
      "opalg\n",
      "oplga\n",
      "oplag\n",
      "oagpl\n",
      "oaglp\n",
      "oapgl\n",
      "oaplg\n",
      "oalgp\n",
      "oalpg\n",
      "olgpa\n",
      "olgap\n",
      "olpga\n",
      "olpag\n",
      "olagp\n",
      "olapg\n",
      "pgoal\n",
      "pgola\n",
      "pgaol\n",
      "pgalo\n",
      "pgloa\n",
      "pglao\n",
      "pogal\n",
      "pogla\n",
      "poagl\n",
      "poalg\n",
      "polga\n",
      "polag\n",
      "pagol\n",
      "paglo\n",
      "paogl\n",
      "paolg\n",
      "palgo\n",
      "palog\n",
      "plgoa\n",
      "plgao\n",
      "ploga\n",
      "ploag\n",
      "plago\n",
      "plaog\n",
      "agopl\n",
      "agolp\n",
      "agpol\n",
      "agplo\n",
      "aglop\n",
      "aglpo\n",
      "aogpl\n",
      "aoglp\n",
      "aopgl\n",
      "aoplg\n",
      "aolgp\n",
      "aolpg\n",
      "apgol\n",
      "apglo\n",
      "apogl\n",
      "apolg\n",
      "aplgo\n",
      "aplog\n",
      "algop\n",
      "algpo\n",
      "alogp\n",
      "alopg\n",
      "alpgo\n",
      "alpog\n",
      "lgopa\n",
      "lgoap\n",
      "lgpoa\n",
      "lgpao\n",
      "lgaop\n",
      "lgapo\n",
      "logpa\n",
      "logap\n",
      "lopga\n",
      "lopag\n",
      "loagp\n",
      "loapg\n",
      "lpgoa\n",
      "lpgao\n",
      "lpoga\n",
      "lpoag\n",
      "lpago\n",
      "lpaog\n",
      "lagop\n",
      "lagpo\n",
      "laogp\n",
      "laopg\n",
      "lapgo\n",
      "lapog\n"
     ]
    }
   ],
   "source": [
    "def generate_permutations(string):\n",
    "    if len(string) == 0:\n",
    "        return []\n",
    "    elif len(string) == 1:\n",
    "        return [string]\n",
    "    else:\n",
    "        permutations = []\n",
    "        for i in range(len(string)):\n",
    "            # Choose the i-th character as the first character\n",
    "            first_char = string[i]\n",
    "\n",
    "            # Generate permutations of the remaining characters\n",
    "            remaining_chars = string[:i] + string[i+1:]\n",
    "            sub_permutations = generate_permutations(remaining_chars)\n",
    "\n",
    "            # Append the first character to each sub-permutation\n",
    "            for permutation in sub_permutations:\n",
    "                permutations.append(first_char + permutation)\n",
    "        \n",
    "        return permutations\n",
    "\n",
    "# Example usage\n",
    "input_string = input(\"Enter a string: \")\n",
    "permutations = generate_permutations(input_string)\n",
    "print(\"Permutations:\")\n",
    "for permutation in permutations:\n",
    "    print(permutation)\n"
   ]
  },
  {
   "cell_type": "markdown",
   "id": "47829e09",
   "metadata": {},
   "source": [
    "14. Implement a function to calculate the Fibonacci sequence up to a given number of terms."
   ]
  },
  {
   "cell_type": "code",
   "execution_count": 23,
   "id": "bf3ce889",
   "metadata": {},
   "outputs": [
    {
     "name": "stdout",
     "output_type": "stream",
     "text": [
      "Enter the number of terms: 10\n",
      "Fibonacci Sequence:\n",
      "[0, 1, 1, 2, 3, 5, 8, 13, 21, 34]\n"
     ]
    }
   ],
   "source": [
    "def fibonacci_sequence(n):\n",
    "    sequence = []\n",
    "    if n <= 0:\n",
    "        return sequence\n",
    "    elif n == 1:\n",
    "        sequence = [0]\n",
    "    elif n == 2:\n",
    "        sequence = [0, 1]\n",
    "    else:\n",
    "        sequence = [0, 1]\n",
    "        for i in range(2, n):\n",
    "            sequence.append(sequence[i-1] + sequence[i-2])\n",
    "    return sequence\n",
    "\n",
    "# Example usage\n",
    "num_terms = int(input(\"Enter the number of terms: \"))\n",
    "fib_sequence = fibonacci_sequence(num_terms)\n",
    "print(\"Fibonacci Sequence:\")\n",
    "print(fib_sequence)\n"
   ]
  },
  {
   "cell_type": "markdown",
   "id": "bb9a13e0",
   "metadata": {},
   "source": [
    "\n",
    "15. Write a program to find the median of a list of numbers.\n"
   ]
  },
  {
   "cell_type": "code",
   "execution_count": 24,
   "id": "96f1df87",
   "metadata": {},
   "outputs": [
    {
     "name": "stdout",
     "output_type": "stream",
     "text": [
      "Enter a list of numbers separated by spaces: 233 44 65 76 32 457 543 65\n",
      "Median: 70.5\n"
     ]
    }
   ],
   "source": [
    "def find_median(numbers):\n",
    "    sorted_numbers = sorted(numbers)\n",
    "    n = len(sorted_numbers)\n",
    "    if n % 2 == 0:\n",
    "        mid = n // 2\n",
    "        median = (sorted_numbers[mid-1] + sorted_numbers[mid]) / 2\n",
    "    else:\n",
    "        mid = n // 2\n",
    "        median = sorted_numbers[mid]\n",
    "    return median\n",
    "\n",
    "# Example usage\n",
    "input_list = input(\"Enter a list of numbers separated by spaces: \").split()\n",
    "input_list = [float(num) for num in input_list]  # Convert input to floats\n",
    "median_value = find_median(input_list)\n",
    "print(\"Median:\", median_value)\n"
   ]
  },
  {
   "cell_type": "markdown",
   "id": "f1f347f8",
   "metadata": {},
   "source": [
    "\n",
    "16. Implement a function to check if a given list is sorted in non-decreasing order.\n"
   ]
  },
  {
   "cell_type": "code",
   "execution_count": 29,
   "id": "71f5eef9",
   "metadata": {},
   "outputs": [
    {
     "name": "stdout",
     "output_type": "stream",
     "text": [
      "Enter a list of numbers separated by spaces: 76 12 34 56\n",
      "The list is not sorted in non-decreasing order.\n"
     ]
    }
   ],
   "source": [
    "def is_sorted(lst):\n",
    "    for i in range(len(lst) - 1):\n",
    "        if lst[i] > lst[i + 1]:\n",
    "            return False\n",
    "    return True\n",
    "\n",
    "# Example usage\n",
    "input_list = input(\"Enter a list of numbers separated by spaces: \").split()\n",
    "input_list = [int(num) for num in input_list]  # Convert input to integers\n",
    "\n",
    "if is_sorted(input_list):\n",
    "    print(\"The list is sorted in non-decreasing order.\")\n",
    "else:\n",
    "    print(\"The list is not sorted in non-decreasing order.\")\n"
   ]
  },
  {
   "cell_type": "markdown",
   "id": "20884657",
   "metadata": {},
   "source": [
    "\n",
    "17. Write a Python program to find the intersection of two lists.\n"
   ]
  },
  {
   "cell_type": "code",
   "execution_count": 30,
   "id": "0ffca42f",
   "metadata": {},
   "outputs": [
    {
     "name": "stdout",
     "output_type": "stream",
     "text": [
      "Enter the elements of the first list separated by spaces: 12 34 32 56 74 68\n",
      "Enter the elements of the second list separated by spaces: 43 32 566 78 65 890 54\n",
      "Intersection: ['32']\n"
     ]
    }
   ],
   "source": [
    "def find_intersection(list1, list2):\n",
    "    set1 = set(list1)\n",
    "    set2 = set(list2)\n",
    "    intersection = set1.intersection(set2)\n",
    "    return list(intersection)\n",
    "\n",
    "# Example usage\n",
    "input_list1 = input(\"Enter the elements of the first list separated by spaces: \").split()\n",
    "input_list2 = input(\"Enter the elements of the second list separated by spaces: \").split()\n",
    "\n",
    "intersection = find_intersection(input_list1, input_list2)\n",
    "print(\"Intersection:\", intersection)\n"
   ]
  },
  {
   "cell_type": "markdown",
   "id": "8c040572",
   "metadata": {},
   "source": [
    "\n",
    "18. Implement a function to find the maximum subarray sum in a given list\n"
   ]
  },
  {
   "cell_type": "code",
   "execution_count": 32,
   "id": "bf832e49",
   "metadata": {},
   "outputs": [
    {
     "name": "stdout",
     "output_type": "stream",
     "text": [
      "Enter a list of numbers separated by spaces: 23 43 11 33 45\n",
      "Maximum subarray sum: 155\n"
     ]
    }
   ],
   "source": [
    "def find_max_subarray_sum(lst):\n",
    "    if not lst:\n",
    "        return 0\n",
    "    \n",
    "    current_sum = max_sum = lst[0]\n",
    "    for num in lst[1:]:\n",
    "        current_sum = max(num, current_sum + num)\n",
    "        max_sum = max(max_sum, current_sum)\n",
    "    \n",
    "    return max_sum\n",
    "\n",
    "# Example usage\n",
    "input_list = input(\"Enter a list of numbers separated by spaces: \").split()\n",
    "input_list = [int(num) for num in input_list]  # Convert input to integers\n",
    "\n",
    "max_subarray_sum = find_max_subarray_sum(input_list)\n",
    "print(\"Maximum subarray sum:\", max_subarray_sum)\n"
   ]
  },
  {
   "cell_type": "markdown",
   "id": "1fd0a9c7",
   "metadata": {},
   "source": [
    "\n",
    "19. Write a program to remove all vowels from a given string.\n"
   ]
  },
  {
   "cell_type": "code",
   "execution_count": 33,
   "id": "c2390c7e",
   "metadata": {},
   "outputs": [
    {
     "name": "stdout",
     "output_type": "stream",
     "text": [
      "Enter a string: asjkfgl\n",
      "String with vowels removed: sjkfgl\n"
     ]
    }
   ],
   "source": [
    "def remove_vowels(string):\n",
    "    vowels = \"aeiouAEIOU\"\n",
    "    return ''.join(char for char in string if char not in vowels)\n",
    "\n",
    "# Example usage\n",
    "input_string = input(\"Enter a string: \")\n",
    "result_string = remove_vowels(input_string)\n",
    "print(\"String with vowels removed:\", result_string)\n"
   ]
  },
  {
   "cell_type": "markdown",
   "id": "9f2a00b1",
   "metadata": {},
   "source": [
    "\n",
    "20. Implement a function to reverse the order of words in a given sentence.\n"
   ]
  },
  {
   "cell_type": "code",
   "execution_count": 35,
   "id": "613d04ca",
   "metadata": {},
   "outputs": [
    {
     "name": "stdout",
     "output_type": "stream",
     "text": [
      "Enter a sentence: it's very beautiful day\n",
      "Reversed sentence: day beautiful very it's\n"
     ]
    }
   ],
   "source": [
    "def reverse_sentence(sentence):\n",
    "    words = sentence.split()\n",
    "    reversed_words = words[::-1]\n",
    "    reversed_sentence = ' '.join(reversed_words)\n",
    "    return reversed_sentence\n",
    "\n",
    "# Example usage\n",
    "input_sentence = input(\"Enter a sentence: \")\n",
    "reversed_sentence = reverse_sentence(input_sentence)\n",
    "print(\"Reversed sentence:\", reversed_sentence)\n"
   ]
  },
  {
   "cell_type": "markdown",
   "id": "466ef0ed",
   "metadata": {},
   "source": [
    "\n",
    "21. Write a Python program to check if two strings are anagrams of each other.\n"
   ]
  },
  {
   "cell_type": "code",
   "execution_count": 40,
   "id": "ef311684",
   "metadata": {},
   "outputs": [
    {
     "name": "stdout",
     "output_type": "stream",
     "text": [
      "Enter the first string: nice\n",
      "Enter the second string: icen\n",
      "The strings are anagrams.\n"
     ]
    }
   ],
   "source": [
    "def are_anagrams(str1, str2):\n",
    "    str1 = str1.replace(\" \", \"\").lower()\n",
    "    str2 = str2.replace(\" \", \"\").lower()\n",
    "    \n",
    "    if len(str1) != len(str2):\n",
    "        return False\n",
    "    \n",
    "    char_count = {}\n",
    "    for char in str1:\n",
    "        if char in char_count:\n",
    "            char_count[char] += 1\n",
    "        else:\n",
    "            char_count[char] = 1\n",
    "    \n",
    "    for char in str2:\n",
    "        if char in char_count:\n",
    "            char_count[char] -= 1\n",
    "        else:\n",
    "            return False\n",
    "    \n",
    "    return all(value == 0 for value in char_count.values())\n",
    "\n",
    "# Example usage\n",
    "input_str1 = input(\"Enter the first string: \")\n",
    "input_str2 = input(\"Enter the second string: \")\n",
    "\n",
    "if are_anagrams(input_str1, input_str2):\n",
    "    print(\"The strings are anagrams.\")\n",
    "else:\n",
    "    print(\"The strings are not anagrams.\")\n"
   ]
  },
  {
   "cell_type": "markdown",
   "id": "fe99edec",
   "metadata": {},
   "source": [
    "\n",
    "22. Implement a function to find the first non-repeating character in a string.\n"
   ]
  },
  {
   "cell_type": "code",
   "execution_count": 42,
   "id": "1856505d",
   "metadata": {},
   "outputs": [
    {
     "name": "stdout",
     "output_type": "stream",
     "text": [
      "Enter a string: gopal govind\n",
      "First non-repeating character: p\n"
     ]
    }
   ],
   "source": [
    "def find_first_non_repeating_char(string):\n",
    "    char_count = {}\n",
    "    \n",
    "    for char in string:\n",
    "        if char in char_count:\n",
    "            char_count[char] += 1\n",
    "        else:\n",
    "            char_count[char] = 1\n",
    "    \n",
    "    for char in string:\n",
    "        if char_count[char] == 1:\n",
    "            return char\n",
    "    \n",
    "    return None\n",
    "\n",
    "# Example usage\n",
    "input_string = input(\"Enter a string: \")\n",
    "result = find_first_non_repeating_char(input_string)\n",
    "\n",
    "if result is not None:\n",
    "    print(\"First non-repeating character:\", result)\n",
    "else:\n",
    "    print(\"There is no non-repeating character in the string.\")\n"
   ]
  },
  {
   "cell_type": "markdown",
   "id": "7df9ab1b",
   "metadata": {},
   "source": [
    "\n",
    "23. Write a program to find the prime factors of a given number.\n"
   ]
  },
  {
   "cell_type": "code",
   "execution_count": 44,
   "id": "2b46174e",
   "metadata": {},
   "outputs": [
    {
     "name": "stdout",
     "output_type": "stream",
     "text": [
      "Enter a number: 42\n",
      "Prime factors: [2, 3, 7]\n"
     ]
    }
   ],
   "source": [
    "def find_prime_factors(n):\n",
    "    prime_factors = []\n",
    "    i = 2\n",
    "\n",
    "    while i * i <= n:\n",
    "        if n % i:\n",
    "            i += 1\n",
    "        else:\n",
    "            n //= i\n",
    "            prime_factors.append(i)\n",
    "\n",
    "    if n > 1:\n",
    "        prime_factors.append(n)\n",
    "\n",
    "    return prime_factors\n",
    "\n",
    "# Example usage\n",
    "input_number = int(input(\"Enter a number: \"))\n",
    "prime_factors = find_prime_factors(input_number)\n",
    "print(\"Prime factors:\", prime_factors)\n"
   ]
  },
  {
   "cell_type": "markdown",
   "id": "0c8f68c2",
   "metadata": {},
   "source": [
    "\n",
    "24. Implement a function to check if a given number is a power of two.\n"
   ]
  },
  {
   "cell_type": "code",
   "execution_count": 46,
   "id": "4df0ce5f",
   "metadata": {},
   "outputs": [
    {
     "name": "stdout",
     "output_type": "stream",
     "text": [
      "Enter a number: 16\n",
      "The number is a power of two.\n"
     ]
    }
   ],
   "source": [
    "def is_power_of_two(n):\n",
    "    if n <= 0:\n",
    "        return False\n",
    "    return (n & (n - 1)) == 0\n",
    "\n",
    "# Example usage\n",
    "input_number = int(input(\"Enter a number: \"))\n",
    "if is_power_of_two(input_number):\n",
    "    print(\"The number is a power of two.\")\n",
    "else:\n",
    "    print(\"The number is not a power of two.\")\n"
   ]
  },
  {
   "cell_type": "markdown",
   "id": "540e2359",
   "metadata": {},
   "source": [
    "\n",
    "25. Write a Python program to merge two sorted lists into a single sorted list."
   ]
  },
  {
   "cell_type": "code",
   "execution_count": 49,
   "id": "71eb151e",
   "metadata": {},
   "outputs": [
    {
     "name": "stdout",
     "output_type": "stream",
     "text": [
      "Enter the elements of the first sorted list separated by spaces: 23 34 45 67 89\n",
      "Enter the elements of the second sorted list separated by spaces: 12 32 43 54 65\n",
      "Merged sorted list: [12, 23, 32, 34, 43, 45, 54, 65, 67, 89]\n"
     ]
    }
   ],
   "source": [
    "def merge_sorted_lists(list1, list2):\n",
    "    merged_list = []\n",
    "    i = j = 0\n",
    "\n",
    "    while i < len(list1) and j < len(list2):\n",
    "        if list1[i] <= list2[j]:\n",
    "            merged_list.append(list1[i])\n",
    "            i += 1\n",
    "        else:\n",
    "            merged_list.append(list2[j])\n",
    "            j += 1\n",
    "\n",
    "    while i < len(list1):\n",
    "        merged_list.append(list1[i])\n",
    "        i += 1\n",
    "\n",
    "    while j < len(list2):\n",
    "        merged_list.append(list2[j])\n",
    "        j += 1\n",
    "\n",
    "    return merged_list\n",
    "\n",
    "# Example usage\n",
    "input_list1 = input(\"Enter the elements of the first sorted list separated by spaces: \").split()\n",
    "input_list2 = input(\"Enter the elements of the second sorted list separated by spaces: \").split()\n",
    "\n",
    "list1 = [int(num) for num in input_list1]\n",
    "list2 = [int(num) for num in input_list2]\n",
    "\n",
    "merged_list = merge_sorted_lists(list1, list2)\n",
    "print(\"Merged sorted list:\", merged_list)\n"
   ]
  },
  {
   "cell_type": "markdown",
   "id": "7ada3877",
   "metadata": {},
   "source": [
    "\n",
    "27. Write a program to find the greatest common divisor (GCD) of two numbers.\n"
   ]
  },
  {
   "cell_type": "code",
   "execution_count": 51,
   "id": "b7baa441",
   "metadata": {},
   "outputs": [
    {
     "name": "stdout",
     "output_type": "stream",
     "text": [
      "Enter the first number: 45\n",
      "Enter the second number: 1038\n",
      "Greatest Common Divisor (GCD): 3\n"
     ]
    }
   ],
   "source": [
    "def gcd(a, b):\n",
    "    while b != 0:\n",
    "        a, b = b, a % b\n",
    "    return a\n",
    "\n",
    "# Example usage\n",
    "num1 = int(input(\"Enter the first number: \"))\n",
    "num2 = int(input(\"Enter the second number: \"))\n",
    "\n",
    "result = gcd(num1, num2)\n",
    "print(\"Greatest Common Divisor (GCD):\", result)\n"
   ]
  },
  {
   "cell_type": "markdown",
   "id": "362d4572",
   "metadata": {},
   "source": [
    "\n",
    "28. Implement a function to calculate the square root of a given number.\n"
   ]
  },
  {
   "cell_type": "code",
   "execution_count": 3,
   "id": "cddeb53f",
   "metadata": {},
   "outputs": [
    {
     "name": "stdout",
     "output_type": "stream",
     "text": [
      "Enter a number: 24\n",
      "Square root: 4.898979485566356\n"
     ]
    }
   ],
   "source": [
    "def square_root(n):\n",
    "\n",
    "    return n**0.5\n",
    "\n",
    "# Example usage\n",
    "input_number = float(input(\"Enter a number: \"))\n",
    "result = square_root(input_number)\n",
    "print(\"Square root:\", result)\n"
   ]
  },
  {
   "cell_type": "markdown",
   "id": "7945288e",
   "metadata": {},
   "source": [
    "\n",
    "29. Write a Python program to check if a given string is a valid palindrome ignoring non-alphanumeric characters.\n",
    "\n"
   ]
  },
  {
   "cell_type": "code",
   "execution_count": 6,
   "id": "8b4ae8b5",
   "metadata": {},
   "outputs": [
    {
     "name": "stdout",
     "output_type": "stream",
     "text": [
      "Enter a string: gopal\n",
      "The string is not a valid palindrome.\n"
     ]
    }
   ],
   "source": [
    "import re\n",
    "\n",
    "def is_valid_palindrome(s):\n",
    "    s = re.sub(r'[^a-zA-Z0-9]', '', s.lower())\n",
    "    return s == s[::-1]\n",
    "\n",
    "# Example usage\n",
    "input_string = input(\"Enter a string: \")\n",
    "if is_valid_palindrome(input_string):\n",
    "    print(\"The string is a valid palindrome.\")\n",
    "else:\n",
    "    print(\"The string is not a valid palindrome.\")\n"
   ]
  },
  {
   "cell_type": "markdown",
   "id": "994ef52e",
   "metadata": {},
   "source": [
    "\n",
    "30. Implement a function to find the minimum element in a rotated sorted list.\n"
   ]
  },
  {
   "cell_type": "code",
   "execution_count": 7,
   "id": "0a325a22",
   "metadata": {},
   "outputs": [
    {
     "name": "stdout",
     "output_type": "stream",
     "text": [
      "Enter the elements of the rotated sorted list separated by spaces: 4 5 6 0 2 3\n",
      "Minimum element: 0\n"
     ]
    }
   ],
   "source": [
    "def find_minimum(nums):\n",
    "    left = 0\n",
    "    right = len(nums) - 1\n",
    "\n",
    "    while left < right:\n",
    "        mid = left + (right - left) // 2\n",
    "\n",
    "        if nums[mid] > nums[right]:\n",
    "            left = mid + 1\n",
    "        else:\n",
    "            right = mid\n",
    "\n",
    "    return nums[left]\n",
    "\n",
    "# Example usage\n",
    "input_list = input(\"Enter the elements of the rotated sorted list separated by spaces: \").split()\n",
    "input_list = [int(num) for num in input_list]  # Convert input to integers\n",
    "\n",
    "minimum = find_minimum(input_list)\n",
    "print(\"Minimum element:\", minimum)\n"
   ]
  },
  {
   "cell_type": "markdown",
   "id": "93da014a",
   "metadata": {},
   "source": [
    "\n",
    "31. Write a program to find the sum of all even numbers in a list.\n"
   ]
  },
  {
   "cell_type": "code",
   "execution_count": 8,
   "id": "c92e0d99",
   "metadata": {},
   "outputs": [
    {
     "name": "stdout",
     "output_type": "stream",
     "text": [
      "Enter a list of numbers separated by spaces: 34 54 67 79 80 12 0 10 23\n",
      "Sum of even numbers: 190\n"
     ]
    }
   ],
   "source": [
    "def sum_of_even_numbers(numbers):\n",
    "    even_sum = 0\n",
    "    for num in numbers:\n",
    "        if num % 2 == 0:\n",
    "            even_sum += num\n",
    "    return even_sum\n",
    "\n",
    "# Example usage\n",
    "input_list = input(\"Enter a list of numbers separated by spaces: \").split()\n",
    "input_list = [int(num) for num in input_list]  # Convert input to integers\n",
    "\n",
    "result = sum_of_even_numbers(input_list)\n",
    "print(\"Sum of even numbers:\", result)\n"
   ]
  },
  {
   "cell_type": "markdown",
   "id": "92436f8f",
   "metadata": {},
   "source": [
    "\n",
    "32. Implement a function to calculate the power of a number using recursion.\n"
   ]
  },
  {
   "cell_type": "code",
   "execution_count": 11,
   "id": "be81f034",
   "metadata": {},
   "outputs": [
    {
     "name": "stdout",
     "output_type": "stream",
     "text": [
      "Enter the base number: 4\n",
      "Enter the exponent: 3\n",
      "Result: 64.0\n"
     ]
    }
   ],
   "source": [
    "def power(base, exponent):\n",
    "    if exponent == 0:\n",
    "        return 1\n",
    "    elif exponent > 0:\n",
    "        return base * power(base, exponent - 1)\n",
    "    else:\n",
    "        return 1 / base * power(base, exponent + 1)\n",
    "\n",
    "# Example usage\n",
    "base = float(input(\"Enter the base number: \"))\n",
    "exponent = int(input(\"Enter the exponent: \"))\n",
    "\n",
    "result = power(base, exponent)\n",
    "print(\"Result:\", result)\n"
   ]
  },
  {
   "cell_type": "markdown",
   "id": "8be4383a",
   "metadata": {},
   "source": [
    "\n",
    "33. Write a Python program to remove duplicates from a list while preserving the order.\n"
   ]
  },
  {
   "cell_type": "code",
   "execution_count": 14,
   "id": "9426f975",
   "metadata": {},
   "outputs": [
    {
     "name": "stdout",
     "output_type": "stream",
     "text": [
      "Enter a list of elements separated by spaces: 23 12 gopal 34 gopal 23\n",
      "List with duplicates removed: ['23', '12', 'gopal', '34']\n"
     ]
    }
   ],
   "source": [
    "def remove_duplicates(lst):\n",
    "    unique_list = []\n",
    "    seen = set()\n",
    "\n",
    "    for item in lst:\n",
    "        if item not in seen:\n",
    "            unique_list.append(item)\n",
    "            seen.add(item)\n",
    "\n",
    "    return unique_list\n",
    "\n",
    "# Example usage\n",
    "input_list = input(\"Enter a list of elements separated by spaces: \").split()\n",
    "result_list = remove_duplicates(input_list)\n",
    "print(\"List with duplicates removed:\", result_list)\n"
   ]
  },
  {
   "cell_type": "markdown",
   "id": "4943910d",
   "metadata": {},
   "source": [
    "\n",
    "34. Implement a function to find the longest common prefix among a list of strings.\n"
   ]
  },
  {
   "cell_type": "code",
   "execution_count": 17,
   "id": "669aec74",
   "metadata": {},
   "outputs": [
    {
     "name": "stdout",
     "output_type": "stream",
     "text": [
      "Enter a list of strings separated by spaces: hello hey he hesh\n",
      "Longest common prefix: he\n"
     ]
    }
   ],
   "source": [
    "def longest_common_prefix(strs):\n",
    "    if not strs:\n",
    "        return \"\"\n",
    "    \n",
    "    min_len = min(len(s) for s in strs)\n",
    "    prefix = \"\"\n",
    "    \n",
    "    for i in range(min_len):\n",
    "        char = strs[0][i]\n",
    "        if all(s[i] == char for s in strs):\n",
    "            prefix += char\n",
    "        else:\n",
    "            break\n",
    "    \n",
    "    return prefix\n",
    "\n",
    "# Example usage\n",
    "input_list = input(\"Enter a list of strings separated by spaces: \").split()\n",
    "result = longest_common_prefix(input_list)\n",
    "print(\"Longest common prefix:\", result)\n"
   ]
  },
  {
   "cell_type": "markdown",
   "id": "758bd415",
   "metadata": {},
   "source": [
    "\n",
    "35. Write a program to check if a given number is a perfect square.\n"
   ]
  },
  {
   "cell_type": "code",
   "execution_count": 18,
   "id": "b27eadb5",
   "metadata": {},
   "outputs": [
    {
     "name": "stdout",
     "output_type": "stream",
     "text": [
      "Enter a number: 45\n",
      "The number is not a perfect square.\n"
     ]
    }
   ],
   "source": [
    "def is_perfect_square(n):\n",
    "    if n < 0:\n",
    "        return False\n",
    "    if n == 0 or n == 1:\n",
    "        return True\n",
    "\n",
    "    left = 1\n",
    "    right = n // 2\n",
    "\n",
    "    while left <= right:\n",
    "        mid = left + (right - left) // 2\n",
    "        square = mid * mid\n",
    "\n",
    "        if square == n:\n",
    "            return True\n",
    "        elif square < n:\n",
    "            left = mid + 1\n",
    "        else:\n",
    "            right = mid - 1\n",
    "\n",
    "    return False\n",
    "\n",
    "# Example usage\n",
    "input_number = int(input(\"Enter a number: \"))\n",
    "if is_perfect_square(input_number):\n",
    "    print(\"The number is a perfect square.\")\n",
    "else:\n",
    "    print(\"The number is not a perfect square.\")\n"
   ]
  },
  {
   "cell_type": "markdown",
   "id": "7b5814c0",
   "metadata": {},
   "source": [
    "\n",
    "36. Implement a function to calculate the product of all elements in a list.\n"
   ]
  },
  {
   "cell_type": "code",
   "execution_count": 19,
   "id": "9228d414",
   "metadata": {},
   "outputs": [
    {
     "name": "stdout",
     "output_type": "stream",
     "text": [
      "Enter a list of numbers separated by spaces: 12 43 65 87\n",
      "Product of elements: 2917980\n"
     ]
    }
   ],
   "source": [
    "def product_of_elements(numbers):\n",
    "    product = 1\n",
    "    for num in numbers:\n",
    "        product *= num\n",
    "    return product\n",
    "\n",
    "# Example usage\n",
    "input_list = input(\"Enter a list of numbers separated by spaces: \").split()\n",
    "input_list = [int(num) for num in input_list]  # Convert input to integers\n",
    "\n",
    "result = product_of_elements(input_list)\n",
    "print(\"Product of elements:\", result)\n"
   ]
  },
  {
   "cell_type": "markdown",
   "id": "4b5244c7",
   "metadata": {},
   "source": [
    "37. Write a Python program to reverse the order of words in a sentence while preserving the word order."
   ]
  },
  {
   "cell_type": "code",
   "execution_count": 20,
   "id": "e9b298ae",
   "metadata": {},
   "outputs": [
    {
     "name": "stdout",
     "output_type": "stream",
     "text": [
      "Enter a sentence: my name is gopal\n",
      "Reversed sentence: gopal is name my\n"
     ]
    }
   ],
   "source": [
    "def reverse_sentence(sentence):\n",
    "    words = sentence.split()\n",
    "    reversed_words = words[::-1]\n",
    "    reversed_sentence = ' '.join(reversed_words)\n",
    "    return reversed_sentence\n",
    "\n",
    "# Example usage\n",
    "input_sentence = input(\"Enter a sentence: \")\n",
    "reversed_sentence = reverse_sentence(input_sentence)\n",
    "print(\"Reversed sentence:\", reversed_sentence)\n"
   ]
  },
  {
   "cell_type": "markdown",
   "id": "9e45082e",
   "metadata": {},
   "source": [
    "\n",
    "38. Implement a function to find the missing number in a given list of consecutive numbers.\n"
   ]
  },
  {
   "cell_type": "code",
   "execution_count": 22,
   "id": "f7b49abf",
   "metadata": {},
   "outputs": [
    {
     "name": "stdout",
     "output_type": "stream",
     "text": [
      "Enter a list of consecutive numbers separated by spaces: 1 2 3 4 5 6\n",
      "Missing number: 7\n"
     ]
    }
   ],
   "source": [
    "def find_missing_number(numbers):\n",
    "    n = len(numbers) + 1\n",
    "    expected_sum = (n * (n + 1)) // 2\n",
    "    actual_sum = sum(numbers)\n",
    "    missing_number = expected_sum - actual_sum\n",
    "    return missing_number\n",
    "\n",
    "# Example usage\n",
    "input_list = input(\"Enter a list of consecutive numbers separated by spaces: \").split()\n",
    "input_list = [int(num) for num in input_list]  # Convert input to integers\n",
    "\n",
    "result = find_missing_number(input_list)\n",
    "print(\"Missing number:\", result)\n"
   ]
  },
  {
   "cell_type": "markdown",
   "id": "d592f6f6",
   "metadata": {},
   "source": [
    "\n",
    "39. Write a program to find the sum of digits of a given number.\n"
   ]
  },
  {
   "cell_type": "code",
   "execution_count": 23,
   "id": "7c3ebec6",
   "metadata": {},
   "outputs": [
    {
     "name": "stdout",
     "output_type": "stream",
     "text": [
      "Enter a number: 43\n",
      "Sum of digits: 7\n"
     ]
    }
   ],
   "source": [
    "def sum_of_digits(n):\n",
    "    sum_digits = 0\n",
    "    while n > 0:\n",
    "        digit = n % 10\n",
    "        sum_digits += digit\n",
    "        n //= 10\n",
    "    return sum_digits\n",
    "\n",
    "# Example usage\n",
    "input_number = int(input(\"Enter a number: \"))\n",
    "result = sum_of_digits(input_number)\n",
    "print(\"Sum of digits:\", result)\n"
   ]
  },
  {
   "cell_type": "markdown",
   "id": "005b6dd3",
   "metadata": {},
   "source": [
    "40. Implement a function to check if a given string is a valid palindrome considering case sensitivity."
   ]
  },
  {
   "cell_type": "code",
   "execution_count": 24,
   "id": "1f11d4b5",
   "metadata": {},
   "outputs": [
    {
     "name": "stdout",
     "output_type": "stream",
     "text": [
      "Enter a string: gopal\n",
      "The string is not a valid palindrome.\n"
     ]
    }
   ],
   "source": [
    "def is_valid_palindrome(s):\n",
    "    left = 0\n",
    "    right = len(s) - 1\n",
    "\n",
    "    while left < right:\n",
    "        if s[left] != s[right]:\n",
    "            return False\n",
    "        left += 1\n",
    "        right -= 1\n",
    "\n",
    "    return True\n",
    "\n",
    "# Example usage\n",
    "input_string = input(\"Enter a string: \")\n",
    "if is_valid_palindrome(input_string):\n",
    "    print(\"The string is a valid palindrome.\")\n",
    "else:\n",
    "    print(\"The string is not a valid palindrome.\")\n"
   ]
  },
  {
   "cell_type": "markdown",
   "id": "57f8c27d",
   "metadata": {},
   "source": [
    "\n",
    "41. Write a Python program to find the smallest missing positive integer in a list.\n"
   ]
  },
  {
   "cell_type": "code",
   "execution_count": 27,
   "id": "a0eeed3c",
   "metadata": {},
   "outputs": [
    {
     "name": "stdout",
     "output_type": "stream",
     "text": [
      "Enter a list of integers separated by spaces: 4 5 7 90\n",
      "Smallest missing positive integer: 1\n"
     ]
    }
   ],
   "source": [
    "def find_smallest_missing_positive(nums):\n",
    "    n = len(nums)\n",
    "\n",
    "    # Move positive integers to their correct positions\n",
    "    i = 0\n",
    "    while i < n:\n",
    "        if 0 < nums[i] <= n and nums[i] != nums[nums[i] - 1]:\n",
    "            nums[nums[i] - 1], nums[i] = nums[i], nums[nums[i] - 1]\n",
    "        else:\n",
    "            i += 1\n",
    "\n",
    "    # Find the first missing positive integer\n",
    "    for i in range(n):\n",
    "        if nums[i] != i + 1:\n",
    "            return i + 1\n",
    "\n",
    "    # If all positive integers are present, return the next integer\n",
    "    return n + 1\n",
    "\n",
    "# Example usage\n",
    "input_list = input(\"Enter a list of integers separated by spaces: \").split()\n",
    "input_list = [int(num) for num in input_list]  # Convert input to integers\n",
    "\n",
    "result = find_smallest_missing_positive(input_list)\n",
    "print(\"Smallest missing positive integer:\", result)\n"
   ]
  },
  {
   "cell_type": "markdown",
   "id": "7d09509b",
   "metadata": {},
   "source": [
    "\n",
    "42. Implement a function to find the longest palindrome substring in a given string.\n"
   ]
  },
  {
   "cell_type": "code",
   "execution_count": 29,
   "id": "9be01897",
   "metadata": {},
   "outputs": [
    {
     "name": "stdout",
     "output_type": "stream",
     "text": [
      "Enter a string: gogoagone\n",
      "Longest palindrome substring: gog\n"
     ]
    }
   ],
   "source": [
    "def longest_palindrome_substring(s):\n",
    "    n = len(s)\n",
    "    longest_palindrome = \"\"\n",
    "\n",
    "    for i in range(n):\n",
    "        # Check for odd-length palindromes\n",
    "        left = right = i\n",
    "        while left >= 0 and right < n and s[left] == s[right]:\n",
    "            left -= 1\n",
    "            right += 1\n",
    "        odd_palindrome = s[left + 1:right]\n",
    "\n",
    "        # Check for even-length palindromes\n",
    "        left = i\n",
    "        right = i + 1\n",
    "        while left >= 0 and right < n and s[left] == s[right]:\n",
    "            left -= 1\n",
    "            right += 1\n",
    "        even_palindrome = s[left + 1:right]\n",
    "\n",
    "        # Update the longest palindrome\n",
    "        if len(odd_palindrome) > len(longest_palindrome):\n",
    "            longest_palindrome = odd_palindrome\n",
    "        if len(even_palindrome) > len(longest_palindrome):\n",
    "            longest_palindrome = even_palindrome\n",
    "\n",
    "    return longest_palindrome\n",
    "\n",
    "# Example usage\n",
    "input_string = input(\"Enter a string: \")\n",
    "result = longest_palindrome_substring(input_string)\n",
    "print(\"Longest palindrome substring:\", result)\n"
   ]
  },
  {
   "cell_type": "markdown",
   "id": "ce575db3",
   "metadata": {},
   "source": [
    "\n",
    "43. Write a program to find the number of occurrences of a given element in a list.\n"
   ]
  },
  {
   "cell_type": "code",
   "execution_count": 31,
   "id": "57b31a2b",
   "metadata": {},
   "outputs": [
    {
     "name": "stdout",
     "output_type": "stream",
     "text": [
      "Enter a list of elements separated by spaces: mai ho gopal aur mai hu data science\n",
      "Enter the element to count occurrences: mai\n",
      "Number of occurrences: 2\n"
     ]
    }
   ],
   "source": [
    "def count_occurrences(lst, element):\n",
    "    count = 0\n",
    "    for item in lst:\n",
    "        if item == element:\n",
    "            count += 1\n",
    "    return count\n",
    "\n",
    "# Example usage\n",
    "input_list = input(\"Enter a list of elements separated by spaces: \").split()\n",
    "element = input(\"Enter the element to count occurrences: \")\n",
    "\n",
    "result = count_occurrences(input_list, element)\n",
    "print(\"Number of occurrences:\", result)\n"
   ]
  },
  {
   "cell_type": "markdown",
   "id": "cd975c21",
   "metadata": {},
   "source": [
    "\n",
    "44. Implement a function to check if a given number is a perfect number.\n"
   ]
  },
  {
   "cell_type": "code",
   "execution_count": 33,
   "id": "8cbd02c7",
   "metadata": {},
   "outputs": [
    {
     "name": "stdout",
     "output_type": "stream",
     "text": [
      "Enter a number: 28\n",
      "The number is a perfect number.\n"
     ]
    }
   ],
   "source": [
    "def is_perfect_number(n):\n",
    "    if n <= 0:\n",
    "        return False\n",
    "\n",
    "    divisors_sum = sum(i for i in range(1, n) if n % i == 0)\n",
    "    return divisors_sum == n\n",
    "\n",
    "# Example usage\n",
    "input_number = int(input(\"Enter a number: \"))\n",
    "if is_perfect_number(input_number):\n",
    "    print(\"The number is a perfect number.\")\n",
    "else:\n",
    "    print(\"The number is not a perfect number.\")\n",
    "\n",
    "    "
   ]
  },
  {
   "cell_type": "markdown",
   "id": "93598ef8",
   "metadata": {},
   "source": [
    "\n",
    "45. Write a Python program to remove all duplicates from a string.\n"
   ]
  },
  {
   "cell_type": "code",
   "execution_count": 35,
   "id": "aa3b6a0e",
   "metadata": {},
   "outputs": [
    {
     "name": "stdout",
     "output_type": "stream",
     "text": [
      "Enter a string: govind gopal\n",
      "String with duplicates removed: govind pal\n"
     ]
    }
   ],
   "source": [
    "def remove_duplicates(string):\n",
    "    unique_chars = []\n",
    "    for char in string:\n",
    "        if char not in unique_chars:\n",
    "            unique_chars.append(char)\n",
    "    return ''.join(unique_chars)\n",
    "\n",
    "# Example usage\n",
    "input_string = input(\"Enter a string: \")\n",
    "result = remove_duplicates(input_string)\n",
    "print(\"String with duplicates removed:\", result)\n",
    "\n"
   ]
  },
  {
   "cell_type": "markdown",
   "id": "518e94c1",
   "metadata": {},
   "source": [
    "\n",
    "46. Implement a function to find the first missing positive\n"
   ]
  },
  {
   "cell_type": "code",
   "execution_count": 36,
   "id": "d08b9fdc",
   "metadata": {},
   "outputs": [
    {
     "name": "stdout",
     "output_type": "stream",
     "text": [
      "Enter a list of integers separated by spaces: 3 45 32 21 56\n",
      "First missing positive: 1\n"
     ]
    }
   ],
   "source": [
    "def find_first_missing_positive(nums):\n",
    "    n = len(nums)\n",
    "    \n",
    "    # Step 1: Move positive numbers to their correct positions\n",
    "    i = 0\n",
    "    while i < n:\n",
    "        # Check if the number is within the valid range and not already in its correct position\n",
    "        if 1 <= nums[i] <= n and nums[i] != nums[nums[i] - 1]:\n",
    "            # Swap the number to its correct position\n",
    "            nums[nums[i] - 1], nums[i] = nums[i], nums[nums[i] - 1]\n",
    "        else:\n",
    "            i += 1\n",
    "    \n",
    "    # Step 2: Find the first missing positive number\n",
    "    for i in range(n):\n",
    "        if nums[i] != i + 1:\n",
    "            return i + 1\n",
    "    \n",
    "    # If all numbers are present, the missing positive is n + 1\n",
    "    return n + 1\n",
    "\n",
    "# Example usage\n",
    "input_list = input(\"Enter a list of integers separated by spaces: \").split()\n",
    "input_list = [int(num) for num in input_list]  # Convert input to integers\n",
    "\n",
    "result = find_first_missing_positive(input_list)\n",
    "print(\"First missing positive:\", result)\n"
   ]
  },
  {
   "cell_type": "code",
   "execution_count": null,
   "id": "0fa557a8",
   "metadata": {},
   "outputs": [],
   "source": []
  }
 ],
 "metadata": {
  "kernelspec": {
   "display_name": "Python 3 (ipykernel)",
   "language": "python",
   "name": "python3"
  },
  "language_info": {
   "codemirror_mode": {
    "name": "ipython",
    "version": 3
   },
   "file_extension": ".py",
   "mimetype": "text/x-python",
   "name": "python",
   "nbconvert_exporter": "python",
   "pygments_lexer": "ipython3",
   "version": "3.9.12"
  }
 },
 "nbformat": 4,
 "nbformat_minor": 5
}
