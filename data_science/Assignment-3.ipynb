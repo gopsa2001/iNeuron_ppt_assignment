{
 "cells": [
  {
   "cell_type": "code",
   "execution_count": 1,
   "id": "1aee3d6b",
   "metadata": {},
   "outputs": [],
   "source": [
    "import pandas as pd\n",
    "import numpy as np\n",
    "import seaborn as sns\n",
    "import matplotlib.pyplot as plt\n",
    "%matplotlib inline\n",
    "from scipy import stats"
   ]
  },
  {
   "cell_type": "markdown",
   "id": "22cc8334",
   "metadata": {
    "slideshow": {
     "slide_type": "slide"
    }
   },
   "source": [
    "1. Scenario: A company wants to analyze the sales performance of its products in different regions. They have collected the following data:\n",
    "   Region A: [10, 15, 12, 8, 14]\n",
    "   Region B: [18, 20, 16, 22, 25]\n",
    "   Calculate the mean sales for each region."
   ]
  },
  {
   "cell_type": "code",
   "execution_count": 2,
   "id": "760d5e20",
   "metadata": {},
   "outputs": [
    {
     "name": "stdout",
     "output_type": "stream",
     "text": [
      "the mean of each region is gven as respectively: 11.8 and 20.2\n"
     ]
    }
   ],
   "source": [
    "A =  [10, 15, 12, 8, 14]\n",
    "B =  [18, 20, 16, 22, 25]\n",
    "\n",
    "M1 = np.mean(A)\n",
    "M2 = np.mean(B)\n",
    "\n",
    "print(\"the mean of each region is gven as respectively:\", M1, \"and\" , M2)"
   ]
  },
  {
   "cell_type": "markdown",
   "id": "14bbae86",
   "metadata": {},
   "source": [
    "2. Scenario: A survey is conducted to measure customer satisfaction on a scale of 1 to 5. The data collected is as follows:\n",
    "   [4, 5, 2, 3, 5, 4, 3, 2, 4, 5]\n",
    "   Calculate the mode of the survey responses."
   ]
  },
  {
   "cell_type": "code",
   "execution_count": 3,
   "id": "76df86bb",
   "metadata": {},
   "outputs": [
    {
     "name": "stdout",
     "output_type": "stream",
     "text": [
      "The mode of the survey responses is as : ModeResult(mode=array([4]), count=array([3]))\n"
     ]
    },
    {
     "name": "stderr",
     "output_type": "stream",
     "text": [
      "C:\\Users\\DELL\\AppData\\Local\\Temp\\ipykernel_14512\\159231385.py:4: FutureWarning: Unlike other reduction functions (e.g. `skew`, `kurtosis`), the default behavior of `mode` typically preserves the axis it acts along. In SciPy 1.11.0, this behavior will change: the default value of `keepdims` will become False, the `axis` over which the statistic is taken will be eliminated, and the value None will no longer be accepted. Set `keepdims` to True or False to avoid this warning.\n",
      "  M1 = stats.mode(A)\n"
     ]
    }
   ],
   "source": [
    "A =  [4, 5, 2, 3, 5, 4, 3, 2, 4, 5]\n",
    "\n",
    "\n",
    "M1 = stats.mode(A)\n",
    "\n",
    "print(\"The mode of the survey responses is as :\", M1)"
   ]
  },
  {
   "cell_type": "markdown",
   "id": "7e75eb1c",
   "metadata": {},
   "source": [
    "3. Scenario: A company wants to compare the salaries of two departments. The salary data for Department A and Department B are as follows:\n",
    "   Department A: [5000, 6000, 5500, 7000]\n",
    "   Department B: [4500, 5500, 5800, 6000, 5200]\n",
    "   Calculate the median salary for each department."
   ]
  },
  {
   "cell_type": "code",
   "execution_count": 4,
   "id": "a1681f49",
   "metadata": {},
   "outputs": [
    {
     "name": "stdout",
     "output_type": "stream",
     "text": [
      "the Median of slaary for each department is gven as respectively: 5750.0 and 5500.0\n"
     ]
    }
   ],
   "source": [
    "A =  [5000, 6000, 5500, 7000]\n",
    "B =  [4500, 5500, 5800, 6000, 5200]\n",
    "\n",
    "M1 = np.median(A)\n",
    "M2 = np.median(B)\n",
    "\n",
    "print(\"the Median of slaary for each department is gven as respectively:\", M1, \"and\" , M2)"
   ]
  },
  {
   "cell_type": "markdown",
   "id": "8d5737a6",
   "metadata": {},
   "source": [
    "4. Scenario: A data analyst wants to determine the variability in the daily stock prices of a company. The data collected is as follows:\n",
    "   [25.5, 24.8, 26.1, 25.3, 24.9]\n",
    "   Calculate the range of the stock prices."
   ]
  },
  {
   "cell_type": "code",
   "execution_count": 5,
   "id": "0235dcdd",
   "metadata": {},
   "outputs": [
    {
     "name": "stdout",
     "output_type": "stream",
     "text": [
      "the range of the stocvk proces is  1.3000000000000007\n"
     ]
    }
   ],
   "source": [
    "A =  [25.5, 24.8, 26.1, 25.3, 24.9]\n",
    "\n",
    "M1 = np.ptp(A)\n",
    "\n",
    "print(\"the range of the stocvk proces is \", M1)"
   ]
  },
  {
   "cell_type": "markdown",
   "id": "32b6616b",
   "metadata": {},
   "source": [
    "5. Scenario: A study is conducted to compare the performance of two different teaching methods. The test scores of the students in each group are as follows:\n",
    "   Group A: [85, 90, 92, 88, 91]\n",
    "   Group B: [82, 88, 90, 86, 87]\n",
    "   Perform a t-test to determine if there is a significant difference in the mean scores between the two groups."
   ]
  },
  {
   "cell_type": "code",
   "execution_count": 6,
   "id": "e0dea695",
   "metadata": {},
   "outputs": [
    {
     "name": "stdout",
     "output_type": "stream",
     "text": [
      "the t teste of above problem is as :  Ttest_indResult(statistic=1.4312528946642733, pvalue=0.19023970239078333)\n"
     ]
    }
   ],
   "source": [
    "A = [85, 90, 92, 88, 91]\n",
    "B = [82, 88, 90, 86, 87]\n",
    "\n",
    "t_statistic= stats.ttest_ind(A,B)\n",
    "\n",
    "print(\"the t teste of above problem is as : \", t_statistic)"
   ]
  },
  {
   "cell_type": "markdown",
   "id": "a377e14c",
   "metadata": {},
   "source": [
    "6. Scenario: A company wants to analyze the relationship between advertising expenditure and sales. The data collected is as follows:\n",
    "   Advertising Expenditure (in thousands): [10, 15, 12, 8, 14]\n",
    "   Sales (in thousands): [25, 30, 28, 20, 26]\n",
    "   Calculate the correlation coefficient between advertising expenditure and sales."
   ]
  },
  {
   "cell_type": "code",
   "execution_count": 7,
   "id": "b518eb54",
   "metadata": {},
   "outputs": [
    {
     "name": "stdout",
     "output_type": "stream",
     "text": [
      "the correlation coeffcient is : 0.8757511375750132\n"
     ]
    }
   ],
   "source": [
    "A = [10, 15, 12, 8, 14]\n",
    "B = [25, 30, 28, 20, 26]\n",
    "\n",
    "corr = np.corrcoef(A,B)[0,1]\n",
    "\n",
    "print(\"the correlation coeffcient is :\", corr)"
   ]
  },
  {
   "cell_type": "markdown",
   "id": "b45b9514",
   "metadata": {},
   "source": [
    "7. Scenario: A survey is conducted to measure the heights of a group of people. The data collected is as follows:\n",
    "   [160, 170, 165, 155, 175, 180, 170]\n",
    "   Calculate the standard deviation of the heights."
   ]
  },
  {
   "cell_type": "code",
   "execution_count": 8,
   "id": "91761b38",
   "metadata": {},
   "outputs": [
    {
     "name": "stdout",
     "output_type": "stream",
     "text": [
      "The standard deviation of heights is: 7.953949089757174\n"
     ]
    }
   ],
   "source": [
    "heights = np.array([160, 170, 165, 155, 175, 180, 170])\n",
    "\n",
    "standard_deviation = np.std(heights)\n",
    "\n",
    "print(\"The standard deviation of heights is:\", standard_deviation)"
   ]
  },
  {
   "cell_type": "markdown",
   "id": "213b661e",
   "metadata": {},
   "source": [
    "8. Scenario: A company wants to analyze the relationship between employee tenure and job satisfaction. The data collected is as follows:\n",
    "   Employee Tenure (in years): [2, 3, 5, 4, 6, 2, 4]\n",
    "   Job Satisfaction (on a scale of 1 to 10): [7, 8, 6, 9, 5, 7, 6]\n",
    "   Perform a linear regression analysis to predict job satisfaction based on employee tenure."
   ]
  },
  {
   "cell_type": "code",
   "execution_count": 9,
   "id": "e8ede937",
   "metadata": {},
   "outputs": [
    {
     "name": "stdout",
     "output_type": "stream",
     "text": [
      "Slope: -0.4680851063829787\n",
      "Intercept: 8.595744680851062\n",
      "R-Value (Correlation Coefficient): -0.520573376708331\n",
      "P-Value: 0.23095550952297988\n",
      "Standard Error: 0.34333860006713723\n",
      "Predicted job satisfaction for a tenure of 3 years: 7.191489361702127\n"
     ]
    }
   ],
   "source": [
    "\n",
    "employee_tenure = np.array([2, 3, 5, 4, 6, 2, 4])\n",
    "job_satisfaction = np.array([7, 8, 6, 9, 5, 7, 6])\n",
    "\n",
    "# Perform linear regression analysis\n",
    "slope, intercept, r_value, p_value, std_err = stats.linregress(employee_tenure, job_satisfaction)\n",
    "\n",
    "print(\"Slope:\", slope)\n",
    "print(\"Intercept:\", intercept)\n",
    "print(\"R-Value (Correlation Coefficient):\", r_value)\n",
    "print(\"P-Value:\", p_value)\n",
    "print(\"Standard Error:\", std_err)\n",
    "\n",
    "# Predict job satisfaction for a given tenure\n",
    "tenure = 3\n",
    "predicted_satisfaction = slope * tenure + intercept\n",
    "print(\"Predicted job satisfaction for a tenure of\", tenure, \"years:\", predicted_satisfaction)\n"
   ]
  },
  {
   "cell_type": "code",
   "execution_count": 10,
   "id": "47f252be",
   "metadata": {},
   "outputs": [
    {
     "data": {
      "image/png": "[encoded data removed]",
      "text/plain": [
       "<Figure size 640x480 with 1 Axes>"
      ]
     },
     "metadata": {},
     "output_type": "display_data"
    }
   ],
   "source": [
    "\n",
    "# Perform linear regression analysis\n",
    "slope, intercept = np.polyfit(employee_tenure, job_satisfaction, 1)\n",
    "\n",
    "# Create regression line\n",
    "regression_line = slope * employee_tenure + intercept\n",
    "\n",
    "# Plot the data points and regression line\n",
    "plt.scatter(employee_tenure, job_satisfaction, color='blue', label='Data Points')\n",
    "plt.plot(employee_tenure, regression_line, color='red', label='Regression Line')\n",
    "\n",
    "plt.xlabel('Employee Tenure (years)')\n",
    "plt.ylabel('Job Satisfaction')\n",
    "plt.title('Linear Regression Analysis')\n",
    "plt.legend()\n",
    "plt.grid(True)\n",
    "plt.show()"
   ]
  },
  {
   "cell_type": "markdown",
   "id": "b819ff0b",
   "metadata": {},
   "source": [
    "9. Scenario: A study is conducted to compare the effectiveness of two different medications. The recovery times of the patients in each group are as follows:\n",
    "   Medication A: [10, 12, 14, 11, 13]\n",
    "   Medication B: [15, 17, 16, 14, 18]\n",
    "   Perform an analysis of variance (ANOVA) to determine if there is a significant difference in the mean recovery times between the two medications."
   ]
  },
  {
   "cell_type": "code",
   "execution_count": 11,
   "id": "df50e6dd",
   "metadata": {},
   "outputs": [
    {
     "name": "stdout",
     "output_type": "stream",
     "text": [
      "Reject Null Hypothesis. There is a significant difference in the mean recovery times between the two medications.\n"
     ]
    }
   ],
   "source": [
    "from scipy.stats import f_oneway\n",
    "\n",
    "medicationA  = [10, 12, 14, 11, 13] \n",
    "medicationB  = [15, 17, 16, 14, 18]\n",
    "\n",
    "null_hypothesis = \"there is no significant difference in the mean recovery times between the two medications.\"\n",
    "alternate_hypothesis = \"there is a significant difference in the mean recovery times between the two medications.\"\n",
    "\n",
    "significance_value = 0.05\n",
    "\n",
    "#perform test\n",
    "\n",
    "test_statistic,p_value = f_oneway(medicationA,medicationB)\n",
    "\n",
    "if p_value < significance_value:\n",
    "    print(\"Reject Null Hypothesis. There is a significant difference in the mean recovery times between the two medications.\")\n",
    "else:\n",
    "    print('Failed to Reject Null hypothesis. There is no significant difference in the mean recovery times between the two medications.')"
   ]
  },
  {
   "cell_type": "markdown",
   "id": "129374a5",
   "metadata": {},
   "source": [
    "10. Scenario: A company wants to analyze customer feedback ratings on a scale of 1 to 10. The data collected is\n",
    "\n",
    " as follows:\n",
    "    [8, 9, 7, 6, 8, 10, 9, 8, 7, 8]\n",
    "    Calculate the 75th percentile of the feedback ratings."
   ]
  },
  {
   "cell_type": "code",
   "execution_count": 12,
   "id": "15457c0d",
   "metadata": {},
   "outputs": [
    {
     "name": "stdout",
     "output_type": "stream",
     "text": [
      "The 75th percentile is 8.75\n"
     ]
    }
   ],
   "source": [
    "feedback_ratings = [8, 9, 7, 6, 8, 10, 9, 8, 7, 8]\n",
    "print(f\"The 75th percentile is {np.percentile(feedback_ratings,75)}\")"
   ]
  },
  {
   "cell_type": "markdown",
   "id": "36887c3e",
   "metadata": {},
   "source": [
    "11. Scenario: A quality control department wants to test the weight consistency of a product. The weights of a sample of products are as follows:\n",
    "    [10.2, 9.8, 10.0, 10.5, 10.3, 10.1]\n",
    "    Perform a hypothesis test to determine if the mean weight differs significantly from 10 grams."
   ]
  },
  {
   "cell_type": "code",
   "execution_count": 13,
   "id": "463d9b38",
   "metadata": {},
   "outputs": [
    {
     "name": "stdout",
     "output_type": "stream",
     "text": [
      "Failed to reject the null hypothesis\n"
     ]
    }
   ],
   "source": [
    "from scipy.stats import ttest_1samp\n",
    "\n",
    "sample_weights = [10.2, 9.8, 10.0, 10.5, 10.3, 10.1]\n",
    "mean = 10\n",
    "null_hypothesis = \"The mean weight equal to 10 grams\"\n",
    "alternate_hypothesis = \"The mean weight is not equal to 10 gram\"\n",
    "\n",
    "significance_value = 0.05\n",
    "\n",
    "test_statistic,p_value = ttest_1samp(sample_weights,mean)\n",
    "\n",
    "if p_value < significance_value:\n",
    "    print(\"Reject the null hypothesis. The mean weight is not eqaul to 10 grams \")\n",
    "else:\n",
    "    print('Failed to reject the null hypothesis')"
   ]
  },
  {
   "cell_type": "markdown",
   "id": "654885b1",
   "metadata": {},
   "source": [
    "12. Scenario: A company wants to analyze the click-through rates of two different website designs. The number of clicks for each design is as follows:\n",
    "    Design A: [100, 120, 110, 90, 95]\n",
    "    Design B: [80, 85, 90, 95, 100]\n",
    "    Perform a chi-square test to determine if there is a significant difference in the click-through rates between the two designs."
   ]
  },
  {
   "cell_type": "code",
   "execution_count": 14,
   "id": "6d70b0a8",
   "metadata": {},
   "outputs": [],
   "source": [
    "from scipy.stats import chi2_contingency"
   ]
  },
  {
   "cell_type": "code",
   "execution_count": 15,
   "id": "5b4916bf",
   "metadata": {},
   "outputs": [
    {
     "name": "stdout",
     "output_type": "stream",
     "text": [
      "Chi-square test results:\n",
      "Chi-square statistic: 6.11\n",
      "P-value: 0.1910\n",
      "Degrees of freedom: 4\n",
      "Expected frequencies:\n",
      "[[ 96.06217617 109.40414508 106.7357513   98.73056995 104.06735751]\n",
      " [ 83.93782383  95.59585492  93.2642487   86.26943005  90.93264249]]\n",
      "Failed to reject null hypothesis. there is no significant difference in the click-through rates between the two designs\n"
     ]
    }
   ],
   "source": [
    "designA = [100, 120, 110, 90, 95] \n",
    "designB = [80, 85, 90, 95, 100]\n",
    "\n",
    "null_hypothesis = \"there is no significant difference in the click-through rates between the two designs.\"\n",
    "alternate_hypothesis = \"there is a significant difference in the click-through rates between the two designs.\"\n",
    "contingency_table = np.array([designA,designB])\n",
    "significance_value = 0.05\n",
    "chi2, p_value, dof, expected = chi2_contingency(contingency_table)\n",
    "\n",
    "print(\"Chi-square test results:\")\n",
    "print(f\"Chi-square statistic: {chi2:.2f}\")\n",
    "print(f\"P-value: {p_value:.4f}\")\n",
    "print(f\"Degrees of freedom: {dof}\")\n",
    "print(\"Expected frequencies:\")\n",
    "print(expected)\n",
    "\n",
    "if p_value < significance_value:\n",
    "    print(\"Reject the null hypothesis.there is a significant difference in the click-through rates between the two designs\")\n",
    "else:\n",
    "    print(\"Failed to reject null hypothesis. there is no significant difference in the click-through rates between the two designs\")"
   ]
  },
  {
   "cell_type": "markdown",
   "id": "f3dc225a",
   "metadata": {},
   "source": [
    "13. Scenario: A survey is conducted to measure customer satisfaction with a product on a scale of 1 to 10. The data collected is as follows:\n",
    "    [7, 9, 6, 8, 10, 7, 8, 9, 7, 8]\n",
    "    Calculate the 95% confidence interval for the population mean satisfaction score."
   ]
  },
  {
   "cell_type": "code",
   "execution_count": 16,
   "id": "8cbacabd",
   "metadata": {},
   "outputs": [
    {
     "name": "stdout",
     "output_type": "stream",
     "text": [
      "Confidence Interval:\n",
      "Lower Fence: 7.09\n",
      "Upper Fence: 8.71\n"
     ]
    }
   ],
   "source": [
    "from scipy.stats import t\n",
    "\n",
    "data =  [7, 9, 6, 8, 10, 7, 8, 9, 7, 8]\n",
    "\n",
    "mean = np.mean(data)\n",
    "std_dev = np.std(data)\n",
    "confidence_level = 0.95\n",
    "sample_size = len(data)\n",
    "dof=sample_size-1\n",
    "\n",
    "critical_value = t.ppf((1+confidence_level)/2,dof)\n",
    "marign_of_error = critical_value * std_dev / np.sqrt(sample_size)\n",
    "\n",
    "lowerfence = mean-marign_of_error\n",
    "higherfence = mean+marign_of_error\n",
    "\n",
    "print(\"Confidence Interval:\")\n",
    "print(f\"Lower Fence: {lowerfence:.2f}\")\n",
    "print(f\"Upper Fence: {higherfence:.2f}\")"
   ]
  },
  {
   "cell_type": "markdown",
   "id": "180751df",
   "metadata": {},
   "source": [
    "14. Scenario: A company wants to analyze the effect of temperature on product performance. The data collected is as follows:\n",
    "    Temperature (in degrees Celsius): [20, 22, 23, 19, 21]\n",
    "    Performance (on a scale of 1 to 10): [8, 7, 9, 6, 8]\n",
    "    Perform a simple linear regression to predict performance based on temperature."
   ]
  },
  {
   "cell_type": "code",
   "execution_count": 17,
   "id": "ccb1cf66",
   "metadata": {},
   "outputs": [
    {
     "name": "stdout",
     "output_type": "stream",
     "text": [
      "Regression Line Equation: y = 0.50x + -2.90\n",
      "R-squared value: 0.48\n",
      "P-value: 0.1942\n",
      "Standard Error: 0.30\n"
     ]
    }
   ],
   "source": [
    "from scipy.stats import linregress\n",
    "\n",
    "temperature =  np.array([20, 22, 23, 19, 21] )\n",
    "performace = np.array([8, 7, 9, 6, 8])\n",
    "\n",
    "slope,intercept,r_value,p_value,std_err=linregress(temperature,performace)\n",
    "\n",
    "# Print the regression line equation\n",
    "print(f\"Regression Line Equation: y = {slope:.2f}x + {intercept:.2f}\")\n",
    "print(f\"R-squared value: {r_value**2:.2f}\")\n",
    "print(f\"P-value: {p_value:.4f}\")\n",
    "print(f\"Standard Error: {std_err:.2f}\")"
   ]
  },
  {
   "cell_type": "markdown",
   "id": "0cda43b6",
   "metadata": {},
   "source": [
    "15. Scenario: A study is conducted to compare the preferences of two groups of participants. The preferences are measured on a Likert scale from 1 to 5. The data collected is as follows:\n",
    "    Group A: [4, 3, 5, 2, 4]\n",
    "    Group B: [3, 2, 4, 3, 3]\n",
    "    Perform a Mann-Whitney U test to determine if there is a significant difference in the median preferences between the two groups."
   ]
  },
  {
   "cell_type": "code",
   "execution_count": 18,
   "id": "4ea5ea3c",
   "metadata": {},
   "outputs": [],
   "source": [
    "from scipy.stats import mannwhitneyu"
   ]
  },
  {
   "cell_type": "code",
   "execution_count": 19,
   "id": "60428974",
   "metadata": {},
   "outputs": [
    {
     "name": "stdout",
     "output_type": "stream",
     "text": [
      "Failed to reject the null hypothesis.There is no significant differnece in the meadian preferences between the two groups\n"
     ]
    }
   ],
   "source": [
    "groupA = [4, 3, 5, 2, 4] \n",
    "groupB = [3, 2, 4, 3, 3]\n",
    "\n",
    "null_hypothesis = \"There is no significant differnece in the median preferences between the two groups\"\n",
    "alternate_hypothesis = \"There is significant differnece in the median preferences between the two groups\"\n",
    "\n",
    "significance_value = 0.05\n",
    "\n",
    "test_statistic,p_value=mannwhitneyu(groupA,groupA)\n",
    "\n",
    "if p_value < significance_value:\n",
    "    print(f'Reject null hypothesis.There is a significant differnece in the median preferences between the two groups')\n",
    "else:\n",
    "    print(f\"Failed to reject the null hypothesis.There is no significant differnece in the meadian preferences between the two groups\")"
   ]
  },
  {
   "cell_type": "markdown",
   "id": "fe89f5af",
   "metadata": {},
   "source": [
    "16. Scenario: A company wants to analyze the distribution of customer ages. The data collected is as follows:\n",
    "    [25, 30, 35, 40, 45, 50, 55, 60, 65, 70]\n",
    "    Calculate the interquartile range (IQR) of the ages."
   ]
  },
  {
   "cell_type": "code",
   "execution_count": 20,
   "id": "6200f574",
   "metadata": {},
   "outputs": [
    {
     "name": "stdout",
     "output_type": "stream",
     "text": [
      "The interquantile range is 22.5\n"
     ]
    }
   ],
   "source": [
    "data = [25, 30, 35, 40, 45, 50, 55, 60, 65, 70] \n",
    "\n",
    "q1,q3 = np.percentile(data,[25,75])\n",
    "\n",
    "iqr = q3-q1\n",
    "\n",
    "print(f\"The interquantile range is {iqr}\")"
   ]
  },
  {
   "cell_type": "markdown",
   "id": "90092b2c",
   "metadata": {},
   "source": [
    "17. Scenario: A study is conducted to compare the performance of three different machine learning algorithms. The accuracy scores for each algorithm are as follows:\n",
    "    Algorithm A: [0.85, 0.80, 0.82, 0.87, 0.83]\n",
    "    Algorithm B: [0.78, 0.82, 0.84, 0.80, 0.79]\n",
    "    Algorithm C: [0.90, 0.88, 0.89, 0.86, 0.87]\n",
    "    Perform a Kruskal-Wallis test to determine if there is a significant difference in the median accuracy scores between the algorithms."
   ]
  },
  {
   "cell_type": "code",
   "execution_count": 21,
   "id": "0bb7fcd2",
   "metadata": {},
   "outputs": [],
   "source": [
    "from scipy.stats import kruskal"
   ]
  },
  {
   "cell_type": "code",
   "execution_count": 22,
   "id": "aa8c5d39",
   "metadata": {},
   "outputs": [
    {
     "name": "stdout",
     "output_type": "stream",
     "text": [
      "Reject the null hypothesis. there is a significant difference in the median accuracy scores between the algorithms\n"
     ]
    }
   ],
   "source": [
    "algo1 = [0.85, 0.80, 0.82, 0.87, 0.83]\n",
    "algo2 = [0.78, 0.82, 0.84, 0.80, 0.79] \n",
    "algo3 = [0.90, 0.88, 0.89, 0.86, 0.87]\n",
    "\n",
    "null_hypothesis = \"there is no significant difference in the median accuracy scores between the algorithms.\"\n",
    "alternate_hypothesis = \" there is a significant difference in the median accuracy scores between the algorithms.\"\n",
    "\n",
    "significance_value = 0.05\n",
    "test_statistic,p_value = kruskal(algo1,algo2,algo3)\n",
    "\n",
    "if p_value < significance_value:\n",
    "    print(\"Reject the null hypothesis. there is a significant difference in the median accuracy scores between the algorithms\")\n",
    "else:\n",
    "    print(\"Failed to reject the null hypothesis\")\n"
   ]
  },
  {
   "cell_type": "markdown",
   "id": "f2f3b83b",
   "metadata": {},
   "source": [
    "18. Scenario: A company wants to analyze the effect of price on sales. The data collected is as follows:\n",
    "    Price (in dollars): [10, 15, 12, 8, 14]\n",
    "    Sales: [100, 80, 90, 110, 95]\n",
    "    Perform a simple linear regression to predict sales based on price."
   ]
  },
  {
   "cell_type": "code",
   "execution_count": 23,
   "id": "64041cad",
   "metadata": {},
   "outputs": [
    {
     "name": "stdout",
     "output_type": "stream",
     "text": [
      "Regression Line Equation: y = -3.51x + 136.37\n",
      "R-squared value: 0.81\n",
      "P-value: 0.0385\n",
      "Standard Error: 0.99\n"
     ]
    }
   ],
   "source": [
    "from scipy.stats import linregress\n",
    "\n",
    "price = [10, 15, 12, 8, 14] \n",
    "sales = [100, 80, 90, 110, 95] \n",
    "\n",
    "slope,intercept,r_value,p_value,std_err=linregress(price,sales)\n",
    "\n",
    "print(f\"Regression Line Equation: y = {slope:.2f}x + {intercept:.2f}\")\n",
    "print(f\"R-squared value: {r_value**2:.2f}\")\n",
    "print(f\"P-value: {p_value:.4f}\")\n",
    "print(f\"Standard Error: {std_err:.2f}\")"
   ]
  },
  {
   "cell_type": "markdown",
   "id": "5bad9d20",
   "metadata": {},
   "source": [
    "19. Scenario: A survey is conducted to measure the satisfaction levels of customers with a new product. The data collected is as follows:\n",
    "    [7, 8, 9, 6, 8, 7, 9, 7, 8, 7]\n",
    "    Calculate the standard error of the mean satisfaction score."
   ]
  },
  {
   "cell_type": "code",
   "execution_count": 24,
   "id": "b45725fd",
   "metadata": {},
   "outputs": [
    {
     "name": "stdout",
     "output_type": "stream",
     "text": [
      "The standard error is 0.30550504633038933\n"
     ]
    }
   ],
   "source": [
    "scores = [7, 8, 9, 6, 8, 7, 9, 7, 8, 7]\n",
    "\n",
    "std_dev = np.std(scores,ddof=1) #Bessel's correction\n",
    "sample_size = len(scores)\n",
    "standard_error = std_dev/np.sqrt(sample_size)\n",
    "\n",
    "print(f'The standard error is {standard_error}')"
   ]
  },
  {
   "cell_type": "markdown",
   "id": "613f9f86",
   "metadata": {},
   "source": [
    "20. Scenario: A company wants to analyze the relationship between advertising expenditure and sales. The data collected is as follows:\n",
    "    Advertising Expenditure (in thousands): [10, 15, 12, 8, 14]\n",
    "    Sales (in thousands): [25, 30, 28, 20, 26]\n",
    "    Perform a multiple regression analysis to predict sales based on advertising expenditure."
   ]
  },
  {
   "cell_type": "code",
   "execution_count": 25,
   "id": "5720b5c7",
   "metadata": {},
   "outputs": [],
   "source": [
    "import numpy as np\n",
    "import statsmodels.api as sm\n",
    "import warnings\n",
    "warnings.filterwarnings('ignore')\n",
    "expenditure = [10, 15, 12, 8, 14]\n",
    "sales = [25, 30, 28, 20, 26]\n",
    "\n",
    "# Adding a constant\n",
    "X = sm.add_constant(expenditure)"
   ]
  },
  {
   "cell_type": "code",
   "execution_count": 26,
   "id": "efd425f2",
   "metadata": {},
   "outputs": [
    {
     "name": "stdout",
     "output_type": "stream",
     "text": [
      "                            OLS Regression Results                            \n",
      "==============================================================================\n",
      "Dep. Variable:                      y   R-squared:                       0.767\n",
      "Model:                            OLS   Adj. R-squared:                  0.689\n",
      "Method:                 Least Squares   F-statistic:                     9.872\n",
      "Date:                Tue, 11 Jul 2023   Prob (F-statistic):             0.0516\n",
      "Time:                        17:14:22   Log-Likelihood:                -9.5288\n",
      "No. Observations:                   5   AIC:                             23.06\n",
      "Df Residuals:                       3   BIC:                             22.28\n",
      "Df Model:                           1                                         \n",
      "Covariance Type:            nonrobust                                         \n",
      "==============================================================================\n",
      "                 coef    std err          t      P>|t|      [0.025      0.975]\n",
      "------------------------------------------------------------------------------\n",
      "const         12.2012      4.429      2.755      0.070      -1.893      26.296\n",
      "x1             1.1524      0.367      3.142      0.052      -0.015       2.320\n",
      "==============================================================================\n",
      "Omnibus:                          nan   Durbin-Watson:                   1.136\n",
      "Prob(Omnibus):                    nan   Jarque-Bera (JB):                0.546\n",
      "Skew:                          -0.267   Prob(JB):                        0.761\n",
      "Kurtosis:                       1.471   Cond. No.                         57.3\n",
      "==============================================================================\n",
      "\n",
      "Notes:\n",
      "[1] Standard Errors assume that the covariance matrix of the errors is correctly specified.\n"
     ]
    }
   ],
   "source": [
    "# using ordinary least sqaures model\n",
    "model = sm.OLS(sales,X)\n",
    "\n",
    "# fit the model\n",
    "results = model.fit()\n",
    "\n",
    "# Print the regression summary\n",
    "print(results.summary())"
   ]
  },
  {
   "cell_type": "code",
   "execution_count": null,
   "id": "2e79aaf4",
   "metadata": {},
   "outputs": [],
   "source": []
  }
 ],
 "metadata": {
  "celltoolbar": "Slideshow",
  "kernelspec": {
   "display_name": "Python 3 (ipykernel)",
   "language": "python",
   "name": "python3"
  },
  "language_info": {
   "codemirror_mode": {
    "name": "ipython",
    "version": 3
   },
   "file_extension": ".py",
   "mimetype": "text/x-python",
   "name": "python",
   "nbconvert_exporter": "python",
   "pygments_lexer": "ipython3",
   "version": "3.10.9"
  }
 },
 "nbformat": 4,
 "nbformat_minor": 5
}
